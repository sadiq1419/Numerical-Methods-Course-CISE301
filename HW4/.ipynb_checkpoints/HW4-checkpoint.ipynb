{
 "cells": [
  {
   "cell_type": "code",
   "execution_count": 309,
   "id": "3400cdf1",
   "metadata": {},
   "outputs": [
    {
     "data": {
      "text/html": [
       "<style>\n",
       ".output{\n",
       "    flex-direction: row;\n",
       "}\n",
       "</style>"
      ],
      "text/plain": [
       "<IPython.core.display.HTML object>"
      ]
     },
     "execution_count": 309,
     "metadata": {},
     "output_type": "execute_result"
    }
   ],
   "source": [
    "%matplotlib inline\n",
    "import matplotlib.pyplot as plt\n",
    "import numpy as np\n",
    "import pandas as pd\n",
    "from IPython.display import display, HTML\n",
    "\n",
    "\n",
    "CSS = \"\"\"\n",
    ".output{\n",
    "    flex-direction: row;\n",
    "}\n",
    "\"\"\"\n",
    "HTML('<style>{}</style>'.format(CSS))"
   ]
  },
  {
   "cell_type": "code",
   "execution_count": 310,
   "id": "91d100d8",
   "metadata": {},
   "outputs": [],
   "source": [
    "fd_h = lambda f,x,h: (f(x+h)-f(x))/h\n",
    "fd_h2 = lambda f,x,h: (-f(x+2*h)+4*f(x+h)-3*f(x))/(2*h)\n",
    "\n",
    "bd_h = lambda f,x,h: (f(x)-f(x-h))/h\n",
    "bd_h2 = lambda f,x,h: (3*f(x)-4*f(x-h)+f(x-2*h))/(2*h)\n",
    "\n",
    "cd_h2 = lambda f,x,h: (f(x+h)-f(x-h))/(2*h)\n",
    "cd_h4 = lambda f,x,h: (-f(x+2*h) +8*f(x+h)-8*f(x-h)+f(x-2*h))/(12*h)"
   ]
  },
  {
   "cell_type": "markdown",
   "id": "dcb5d284",
   "metadata": {},
   "source": [
    "![](23.1.jpg)"
   ]
  },
  {
   "cell_type": "code",
   "execution_count": 311,
   "id": "e7cf44e8",
   "metadata": {
    "scrolled": false
   },
   "outputs": [
    {
     "data": {
      "text/html": [
       "<div>\n",
       "<style scoped>\n",
       "    .dataframe tbody tr th:only-of-type {\n",
       "        vertical-align: middle;\n",
       "    }\n",
       "\n",
       "    .dataframe tbody tr th {\n",
       "        vertical-align: top;\n",
       "    }\n",
       "\n",
       "    .dataframe thead th {\n",
       "        text-align: right;\n",
       "    }\n",
       "</style>\n",
       "<table border=\"1\" class=\"dataframe\">\n",
       "  <thead>\n",
       "    <tr style=\"text-align: right;\">\n",
       "      <th></th>\n",
       "      <th>Forward Diff</th>\n",
       "      <th>Forward Diff Error</th>\n",
       "    </tr>\n",
       "  </thead>\n",
       "  <tbody>\n",
       "    <tr>\n",
       "      <th>$O(h)$</th>\n",
       "      <td>-0.791090</td>\n",
       "      <td>-11.876934</td>\n",
       "    </tr>\n",
       "    <tr>\n",
       "      <th>$O(h^2)$</th>\n",
       "      <td>-0.726013</td>\n",
       "      <td>-2.673676</td>\n",
       "    </tr>\n",
       "  </tbody>\n",
       "</table>\n",
       "</div>"
      ],
      "text/plain": [
       "          Forward Diff  Forward Diff Error\n",
       "$O(h)$       -0.791090          -11.876934\n",
       "$O(h^2)$     -0.726013           -2.673676"
      ]
     },
     "metadata": {},
     "output_type": "display_data"
    },
    {
     "data": {
      "text/html": [
       "<div>\n",
       "<style scoped>\n",
       "    .dataframe tbody tr th:only-of-type {\n",
       "        vertical-align: middle;\n",
       "    }\n",
       "\n",
       "    .dataframe tbody tr th {\n",
       "        vertical-align: top;\n",
       "    }\n",
       "\n",
       "    .dataframe thead th {\n",
       "        text-align: right;\n",
       "    }\n",
       "</style>\n",
       "<table border=\"1\" class=\"dataframe\">\n",
       "  <thead>\n",
       "    <tr style=\"text-align: right;\">\n",
       "      <th></th>\n",
       "      <th>Backward Diff</th>\n",
       "      <th>Backward Diff Error</th>\n",
       "    </tr>\n",
       "  </thead>\n",
       "  <tbody>\n",
       "    <tr>\n",
       "      <th>$O(h)$</th>\n",
       "      <td>-0.607024</td>\n",
       "      <td>14.153809</td>\n",
       "    </tr>\n",
       "    <tr>\n",
       "      <th>$O(h^2)$</th>\n",
       "      <td>-0.719741</td>\n",
       "      <td>-1.786700</td>\n",
       "    </tr>\n",
       "  </tbody>\n",
       "</table>\n",
       "</div>"
      ],
      "text/plain": [
       "          Backward Diff  Backward Diff Error\n",
       "$O(h)$        -0.607024            14.153809\n",
       "$O(h^2)$      -0.719741            -1.786700"
      ]
     },
     "metadata": {},
     "output_type": "display_data"
    },
    {
     "data": {
      "text/html": [
       "<div>\n",
       "<style scoped>\n",
       "    .dataframe tbody tr th:only-of-type {\n",
       "        vertical-align: middle;\n",
       "    }\n",
       "\n",
       "    .dataframe tbody tr th {\n",
       "        vertical-align: top;\n",
       "    }\n",
       "\n",
       "    .dataframe thead th {\n",
       "        text-align: right;\n",
       "    }\n",
       "</style>\n",
       "<table border=\"1\" class=\"dataframe\">\n",
       "  <thead>\n",
       "    <tr style=\"text-align: right;\">\n",
       "      <th></th>\n",
       "      <th>Centeral Diff</th>\n",
       "      <th>Centeral Diff Error</th>\n",
       "    </tr>\n",
       "  </thead>\n",
       "  <tbody>\n",
       "    <tr>\n",
       "      <th>$O(h^2)$</th>\n",
       "      <td>-0.699057</td>\n",
       "      <td>1.138438</td>\n",
       "    </tr>\n",
       "    <tr>\n",
       "      <th>$O(h^4)$</th>\n",
       "      <td>-0.706997</td>\n",
       "      <td>0.015562</td>\n",
       "    </tr>\n",
       "  </tbody>\n",
       "</table>\n",
       "</div>"
      ],
      "text/plain": [
       "          Centeral Diff  Centeral Diff Error\n",
       "$O(h^2)$      -0.699057             1.138438\n",
       "$O(h^4)$      -0.706997             0.015562"
      ]
     },
     "metadata": {},
     "output_type": "display_data"
    }
   ],
   "source": [
    "\"\"\"\n",
    "for FD and BD first order is O(h) and Second Order is O(h^2)\n",
    "for CD first order is O(h^2) and Second Order is O(h^4)\n",
    "\n",
    "\"\"\"\n",
    "\n",
    "f = lambda x: np.cos(x)\n",
    "x = np.pi/4\n",
    "h = np.pi/12\n",
    "tv = -0.707107\n",
    "\n",
    "fd = [fd_h(f,x,h),fd_h2(f,x,h)]\n",
    "bd = [bd_h(f,x,h),bd_h2(f,x,h)]\n",
    "cd = [cd_h2(f,x,h),cd_h4(f,x,h)]\n",
    "\n",
    "df = pd.DataFrame({\"Forward Diff\":fd,\"Backward Diff\":bd,\"Centeral Diff\":cd})\n",
    "\n",
    "for col in df.columns:\n",
    "    df[f\"{col} Error\"] = df[col].apply(lambda x:(tv-x)/tv *100)\n",
    "\n",
    "df.round(4)\n",
    "\n",
    "fd_df = df[[\"Forward Diff\",\"Forward Diff Error\"]]\n",
    "fd_df=fd_df.rename(index={0: \"$O(h)$\", 1: \"$O(h^2)$\"})\n",
    "\n",
    "bd_df = df[[\"Backward Diff\",\"Backward Diff Error\"]]\n",
    "bd_df=bd_df.rename(index={0: \"$O(h)$\", 1: \"$O(h^2)$\"})\n",
    "\n",
    "cd_df = df[[\"Centeral Diff\",\"Centeral Diff Error\"]]\n",
    "cd_df=cd_df.rename(index={0: \"$O(h^2)$\", 1: \"$O(h^4)$\"})\n",
    "\n",
    "display(fd_df)\n",
    "display(bd_df)\n",
    "display(cd_df)"
   ]
  },
  {
   "cell_type": "markdown",
   "id": "8f80f166",
   "metadata": {},
   "source": [
    "![](23.4.jpg)"
   ]
  },
  {
   "cell_type": "code",
   "execution_count": 292,
   "id": "f7fd35e5",
   "metadata": {},
   "outputs": [
    {
     "data": {
      "text/html": [
       "<div>\n",
       "<style scoped>\n",
       "    .dataframe tbody tr th:only-of-type {\n",
       "        vertical-align: middle;\n",
       "    }\n",
       "\n",
       "    .dataframe tbody tr th {\n",
       "        vertical-align: top;\n",
       "    }\n",
       "\n",
       "    .dataframe thead th {\n",
       "        text-align: right;\n",
       "    }\n",
       "</style>\n",
       "<table border=\"1\" class=\"dataframe\">\n",
       "  <thead>\n",
       "    <tr style=\"text-align: right;\">\n",
       "      <th></th>\n",
       "      <th>$h_1 =\\frac{\\pi}{3}$</th>\n",
       "      <th>$h_2 =\\frac{\\pi}{6}$</th>\n",
       "      <th>Richardon Extrapolation</th>\n",
       "    </tr>\n",
       "  </thead>\n",
       "  <tbody>\n",
       "    <tr>\n",
       "      <th>Centeral Diff of $cos(x)$</th>\n",
       "      <td>-0.584773</td>\n",
       "      <td>-0.675237</td>\n",
       "      <td>-0.705392</td>\n",
       "    </tr>\n",
       "  </tbody>\n",
       "</table>\n",
       "</div>"
      ],
      "text/plain": [
       "                           $h_1 =\\frac{\\pi}{3}$  $h_2 =\\frac{\\pi}{6}$  \\\n",
       "Centeral Diff of $cos(x)$             -0.584773             -0.675237   \n",
       "\n",
       "                           Richardon Extrapolation  \n",
       "Centeral Diff of $cos(x)$                -0.705392  "
      ]
     },
     "metadata": {},
     "output_type": "display_data"
    }
   ],
   "source": [
    "\"\"\"\n",
    "for FD and BD first order is O(h) and Second Order is O(h^2)\n",
    "for CD first order is O(h^2) and Second Order is O(h^4)\n",
    "\n",
    "\"\"\"\n",
    "\n",
    "f = lambda x: np.cos(x)\n",
    "x = np.pi/4\n",
    "h1 = np.pi/3\n",
    "h2 = np.pi/6\n",
    "\n",
    "cd = [cd_h2(f,x,h1),cd_h2(f,x,h2)]\n",
    "\n",
    "RE = (4*cd[1]-cd[0])/3\n",
    "cd.append(RE)\n",
    "\n",
    "df = pd.DataFrame({\"Centeral Diff of $cos(x)$\":cd})\n",
    "df= df.rename(index={0: r\"$h_1 =\\frac{\\pi}{3}$\", 1: r\"$h_2 =\\frac{\\pi}{6}$\",2:\"Richardon Extrapolation\"})\n",
    "display(df.T)"
   ]
  },
  {
   "cell_type": "markdown",
   "id": "07cac162",
   "metadata": {},
   "source": [
    "![](23.8.jpg)"
   ]
  },
  {
   "cell_type": "code",
   "execution_count": 312,
   "id": "266a9950",
   "metadata": {},
   "outputs": [
    {
     "data": {
      "text/html": [
       "<table border=\"1\" class=\"dataframe\">\n",
       "  <thead>\n",
       "    <tr style=\"text-align: right;\">\n",
       "      <th>y</th>\n",
       "      <th>CD</th>\n",
       "      <th>True Value</th>\n",
       "      <th>%Error</th>\n",
       "    </tr>\n",
       "  </thead>\n",
       "  <tbody>\n",
       "    <tr>\n",
       "      <td>$$x^3+4x-15$$</td>\n",
       "      <td>4.0000</td>\n",
       "      <td>4.0000</td>\n",
       "      <td>0.0000</td>\n",
       "    </tr>\n",
       "    <tr>\n",
       "      <td>$x^2cosx$</td>\n",
       "      <td>0.6745</td>\n",
       "      <td>0.6745</td>\n",
       "      <td>-0.0006</td>\n",
       "    </tr>\n",
       "    <tr>\n",
       "      <td>$tan(\\frac {x}{3})$</td>\n",
       "      <td>1.0925</td>\n",
       "      <td>1.1418</td>\n",
       "      <td>4.3190</td>\n",
       "    </tr>\n",
       "    <tr>\n",
       "      <td>$\\frac{sin(0.5\\sqrt{x})}{x}$</td>\n",
       "      <td>-0.2591</td>\n",
       "      <td>-0.2600</td>\n",
       "      <td>0.3535</td>\n",
       "    </tr>\n",
       "    <tr>\n",
       "      <td>$e^x + x$</td>\n",
       "      <td>8.3887</td>\n",
       "      <td>8.3891</td>\n",
       "      <td>0.0052</td>\n",
       "    </tr>\n",
       "  </tbody>\n",
       "</table>"
      ],
      "text/plain": [
       "<IPython.core.display.HTML object>"
      ]
     },
     "metadata": {},
     "output_type": "display_data"
    }
   ],
   "source": [
    "F =[lambda x: x**3 +4*x-15,\n",
    "    lambda x: x**2 * np.cos(x),\n",
    "    lambda x: np.tan(x/3),\n",
    "    lambda x:np.sin(0.5*np.sqrt(x))/x,\n",
    "    lambda x:np.exp(x)+x\n",
    "   ]\n",
    "\n",
    "Y =[r\"$$x^3+4x-15$$\",\n",
    "    r\"$x^2cosx$\",\n",
    "    r\"$tan(\\frac {x}{3})$\",\n",
    "    r\"$\\frac{sin(0.5\\sqrt{x})}{x}$\",\n",
    "    r\"$e^x + x$\"\n",
    "   ]\n",
    "X = [0,0.4,3,1,2]\n",
    "H = [0.25,0.1,0.5,0.2,0.2]\n",
    "TVs = [4,0.6745,1.1418,-0.2600,8.3891]\n",
    "\n",
    "df = pd.DataFrame({\"y\":Y,\"f\":F,\"x\":X,\"h\":H,\"True Value\":TVs})\n",
    "\n",
    "df[\"CD\"] = df.apply(lambda d: cd_h4(d[\"f\"],d[\"x\"],d[\"h\"]),axis=1)\n",
    "df[\"%Error\"]= df.apply(lambda d:(d[\"True Value\"]-d[\"CD\"])/d[\"True Value\"] *100 ,axis=1)\n",
    "df = df.round(4)\n",
    "\n",
    "display(HTML(df[[\"y\",\"CD\",\"True Value\",\"%Error\"]].to_html(index=False)))"
   ]
  },
  {
   "cell_type": "code",
   "execution_count": null,
   "id": "adb3e4f8",
   "metadata": {},
   "outputs": [],
   "source": []
  }
 ],
 "metadata": {
  "kernelspec": {
   "display_name": "Python 3",
   "language": "python",
   "name": "python3"
  },
  "language_info": {
   "codemirror_mode": {
    "name": "ipython",
    "version": 3
   },
   "file_extension": ".py",
   "mimetype": "text/x-python",
   "name": "python",
   "nbconvert_exporter": "python",
   "pygments_lexer": "ipython3",
   "version": "3.8.8"
  }
 },
 "nbformat": 4,
 "nbformat_minor": 5
}
