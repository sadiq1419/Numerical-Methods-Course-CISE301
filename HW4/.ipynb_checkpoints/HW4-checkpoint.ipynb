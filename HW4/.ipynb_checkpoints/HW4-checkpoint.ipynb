{
 "cells": [
  {
   "cell_type": "code",
   "execution_count": 23,
   "id": "3400cdf1",
   "metadata": {},
   "outputs": [],
   "source": [
    "%matplotlib inline\n",
    "import matplotlib.pyplot as plt\n",
    "import numpy as np\n",
    "import pandas as pd\n",
    "from IPython.display import display, display_html\n",
    "from itertools import chain, cycle"
   ]
  },
  {
   "cell_type": "code",
   "execution_count": 24,
   "id": "d2026012",
   "metadata": {},
   "outputs": [],
   "source": [
    "#display function from https://stackoverflow.com/a/44923103\n",
    "def side_by_side(*args,titles=cycle(['']),header_size=2):\n",
    "    html_str=''\n",
    "    for df,title in zip(args, chain(titles,cycle(['</br>'])) ):\n",
    "        html_str+='<th style=\"text-align:center;\"><td style=\"vertical-align:top\">'\n",
    "        html_str+=f'<h{header_size}>{title}</h{header_size}>'\n",
    "        html_str+=df.to_html().replace('table','table style=\"display:inline\"')\n",
    "        html_str+='</td></th>'\n",
    "    display_html(html_str,raw=True)"
   ]
  },
  {
   "cell_type": "markdown",
   "id": "abda37b7",
   "metadata": {},
   "source": [
    "   Let  $\\Delta_{h} [f](x)$ be the Forward Difference of $f$ on $x$ with step size $h$  \n",
    "     \n",
    "   Let  $\\nabla_{h} [f](x)$ be the Backwad Difference of $f$ on $x$ with step size $h$  \n",
    "     \n",
    "   Let  $\\delta_{h} [f](x)$ be the Central Difference of $f$ on $x$ with step size $h$  \n",
    "  \n",
    "Using the following Finite Difference Equations:\n",
    "\n",
    "|                     | $$O(h)$$                  | $$O(h^2)$$                   | $$O(h^4)$$                           |\n",
    "|---------------------|---------------------------|------------------------------|--------------------------------------|\n",
    "|$$\\Delta_{h} [f](x)$$| $$\\frac{f(x+h)-f(x)}{h}$$ |$$\\frac{-f(x+2h)+4f(x+h)-3f(x)}{2h}$$|                               |\n",
    "|$$\\nabla_{h} [f](x)$$| $$\\frac{f(x)-f(x-h)}{h}$$ |$$\\frac{3f(x)-4f(x-h)-f(x-2h)}{2h}$$ |                               |\n",
    "|$$\\delta_{h} [f](x)$$|                           |$$\\frac{f(x+h)-f(x-h)}{2h}$$         |$$\\frac{-f(x+2h)+8f(x+h)-8f(x-h)+f(x-2h)}{12h}$$|"
   ]
  },
  {
   "cell_type": "code",
   "execution_count": 25,
   "id": "91d100d8",
   "metadata": {},
   "outputs": [],
   "source": [
    "#implement the Finite Difference Equations as lambdas\n",
    "fd_h = lambda f,x,h: (f(x+h)-f(x))/h\n",
    "fd_h2 = lambda f,x,h: (-f(x+2*h)+4*f(x+h)-3*f(x))/(2*h)\n",
    "\n",
    "bd_h = lambda f,x,h: (f(x)-f(x-h))/h\n",
    "bd_h2 = lambda f,x,h: (3*f(x)-4*f(x-h)+f(x-2*h))/(2*h)\n",
    "\n",
    "cd_h2 = lambda f,x,h: (f(x+h)-f(x-h))/(2*h)\n",
    "cd_h4 = lambda f,x,h: (-f(x+2*h) +8*f(x+h)-8*f(x-h)+f(x-2*h))/(12*h)"
   ]
  },
  {
   "cell_type": "markdown",
   "id": "dcb5d284",
   "metadata": {},
   "source": [
    "![](23.1.jpg)"
   ]
  },
  {
   "cell_type": "code",
   "execution_count": 29,
   "id": "e7cf44e8",
   "metadata": {
    "scrolled": true
   },
   "outputs": [
    {
     "data": {
      "text/html": [
       "<th style=\"text-align:center;\"><td style=\"vertical-align:top\"><h3>Forward Difference</h3><table style=\"display:inline\" border=\"1\" class=\"dataframe\">\n",
       "  <thead>\n",
       "    <tr style=\"text-align: right;\">\n",
       "      <th></th>\n",
       "      <th>$$\\Delta_{h} [cos](x)$$</th>\n",
       "      <th>$$\\epsilon_{t,\\Delta}$$</th>\n",
       "    </tr>\n",
       "  </thead>\n",
       "  <tbody>\n",
       "    <tr>\n",
       "      <th>$O(h)$</th>\n",
       "      <td>-0.791090</td>\n",
       "      <td>-11.8769%</td>\n",
       "    </tr>\n",
       "    <tr>\n",
       "      <th>$O(h^2)$</th>\n",
       "      <td>-0.726013</td>\n",
       "      <td>-2.67368%</td>\n",
       "    </tr>\n",
       "  </tbody>\n",
       "</table style=\"display:inline\"></td></th><th style=\"text-align:center;\"><td style=\"vertical-align:top\"><h3>Backward Difference</h3><table style=\"display:inline\" border=\"1\" class=\"dataframe\">\n",
       "  <thead>\n",
       "    <tr style=\"text-align: right;\">\n",
       "      <th></th>\n",
       "      <th>$$\\nabla_{h} [cos](x)$$</th>\n",
       "      <th>$$\\epsilon_{t,\\nabla}$$</th>\n",
       "    </tr>\n",
       "  </thead>\n",
       "  <tbody>\n",
       "    <tr>\n",
       "      <th>$O(h)$</th>\n",
       "      <td>-0.607024</td>\n",
       "      <td>14.153809%</td>\n",
       "    </tr>\n",
       "    <tr>\n",
       "      <th>$O(h^2)$</th>\n",
       "      <td>-0.719741</td>\n",
       "      <td>-1.786700%</td>\n",
       "    </tr>\n",
       "  </tbody>\n",
       "</table style=\"display:inline\"></td></th><th style=\"text-align:center;\"><td style=\"vertical-align:top\"><h3>Central Difference</h3><table style=\"display:inline\" border=\"1\" class=\"dataframe\">\n",
       "  <thead>\n",
       "    <tr style=\"text-align: right;\">\n",
       "      <th></th>\n",
       "      <th>$$\\delta_{h} [cos](x)$$</th>\n",
       "      <th>$$\\epsilon_{t,\\delta}$$</th>\n",
       "    </tr>\n",
       "  </thead>\n",
       "  <tbody>\n",
       "    <tr>\n",
       "      <th>$O(h^2)$</th>\n",
       "      <td>-0.699057</td>\n",
       "      <td>1.138438%</td>\n",
       "    </tr>\n",
       "    <tr>\n",
       "      <th>$O(h^4)$</th>\n",
       "      <td>-0.706997</td>\n",
       "      <td>0.015562%</td>\n",
       "    </tr>\n",
       "  </tbody>\n",
       "</table style=\"display:inline\"></td></th>"
      ]
     },
     "metadata": {},
     "output_type": "display_data"
    }
   ],
   "source": [
    "#define f,x,h and true value(tv)\n",
    "f = lambda x: np.cos(x)\n",
    "x = np.pi/4\n",
    "h = np.pi/12\n",
    "tv = -0.707107\n",
    "\n",
    "#calculate Forward Difference of O(h) and O(h^2)\n",
    "fd = [fd_h(f,x,h),fd_h2(f,x,h)]\n",
    "#calculate Backward Difference of O(h) and O(h^2)\n",
    "bd = [bd_h(f,x,h),bd_h2(f,x,h)]\n",
    "#calculate Central Difference of O(h^2) and O(h^4)\n",
    "cd = [cd_h2(f,x,h),cd_h4(f,x,h)]\n",
    "\n",
    "#add the resualts into a dataframe df with the notation for each Finite Difference\n",
    "df = pd.DataFrame({\"$$\\Delta_{h} [cos](x)$$\":fd,r\"$$\\nabla_{h} [cos](x)$$\":bd,\"$$\\delta_{h} [cos](x)$$\":cd})\n",
    "\n",
    "#calcuate the %error %Et for each Finite Difference approximation\n",
    "df[\"$$\\epsilon_{t,\\Delta}$$\"] = df[\"$$\\Delta_{h} [cos](x)$$\"].apply(lambda x:f\"{(tv-x)/tv *100:.6}%\")\n",
    "\n",
    "df[r\"$$\\epsilon_{t,\\nabla}$$\"] = df[r\"$$\\nabla_{h} [cos](x)$$\"].apply(lambda x:f\"{(tv-x)/tv *100:.6f}%\")\n",
    "\n",
    "df[\"$$\\epsilon_{t,\\delta}$$\"] = df[\"$$\\delta_{h} [cos](x)$$\"].apply(lambda x:f\"{(tv-x)/tv *100:.6f}%\")\n",
    "#extract the resualts and error from df to a new dataframe for each Finite Difference\n",
    "\n",
    "fd_df = df[[\"$$\\Delta_{h} [cos](x)$$\",\"$$\\epsilon_{t,\\Delta}$$\"]]\n",
    "fd_df=fd_df.rename(index={0: \"$O(h)$\", 1: \"$O(h^2)$\"})\n",
    "\n",
    "bd_df = df[[r\"$$\\nabla_{h} [cos](x)$$\",r\"$$\\epsilon_{t,\\nabla}$$\"]]\n",
    "bd_df=bd_df.rename(index={0: \"$O(h)$\", 1: \"$O(h^2)$\"})\n",
    "\n",
    "cd_df = df[[\"$$\\delta_{h} [cos](x)$$\",\"$$\\epsilon_{t,\\delta}$$\"]]\n",
    "cd_df=cd_df.rename(index={0: \"$O(h^2)$\", 1: \"$O(h^4)$\"})\n",
    "\n",
    "#display side by side\n",
    "side_by_side(fd_df,bd_df,cd_df,titles=[\"Forward Difference\",\"Backward Difference\",\"Central Difference\"],header_size=3)"
   ]
  },
  {
   "cell_type": "markdown",
   "id": "8f80f166",
   "metadata": {},
   "source": [
    "![](23.4.jpg)"
   ]
  },
  {
   "cell_type": "code",
   "execution_count": 27,
   "id": "f7fd35e5",
   "metadata": {
    "scrolled": true
   },
   "outputs": [
    {
     "data": {
      "text/html": [
       "<th style=\"text-align:center;\"><td style=\"vertical-align:top\"><h4>Central Difference</h4><table style=\"display:inline\" border=\"1\" class=\"dataframe\">\n",
       "  <thead>\n",
       "    <tr style=\"text-align: right;\">\n",
       "      <th></th>\n",
       "      <th>$$\\delta_{h} [cos](x)$$</th>\n",
       "      <th>$$\\epsilon_{t,\\delta}$$</th>\n",
       "    </tr>\n",
       "  </thead>\n",
       "  <tbody>\n",
       "    <tr>\n",
       "      <th>$h =\\frac{\\pi}{3}$</th>\n",
       "      <td>-0.584773</td>\n",
       "      <td>0.173007</td>\n",
       "    </tr>\n",
       "    <tr>\n",
       "      <th>$h =\\frac{\\pi}{6}$</th>\n",
       "      <td>-0.675237</td>\n",
       "      <td>0.045071</td>\n",
       "    </tr>\n",
       "  </tbody>\n",
       "</table style=\"display:inline\"></td></th><th style=\"text-align:center;\"><td style=\"vertical-align:top\"><h4>Richardson Extrapolation</h4><table style=\"display:inline\" border=\"1\" class=\"dataframe\">\n",
       "  <thead>\n",
       "    <tr style=\"text-align: right;\">\n",
       "      <th></th>\n",
       "      <th>$$R(\\delta_{h_1},\\delta_{h_2})$$</th>\n",
       "      <th>$$\\epsilon_{t,R}$$</th>\n",
       "    </tr>\n",
       "  </thead>\n",
       "  <tbody>\n",
       "    <tr>\n",
       "      <th></th>\n",
       "      <td>-0.705392</td>\n",
       "      <td>0.002425</td>\n",
       "    </tr>\n",
       "  </tbody>\n",
       "</table style=\"display:inline\"></td></th>"
      ]
     },
     "metadata": {},
     "output_type": "display_data"
    }
   ],
   "source": [
    "#define f,x,h1,h2 and true value(tv)\n",
    "f = lambda x: np.cos(x)\n",
    "x = np.pi/4\n",
    "h1 = np.pi/3\n",
    "h2 = np.pi/6\n",
    "tv= -0.707107\n",
    "\n",
    "#calculate Central Difference of O(h^2) and O(h^4)\n",
    "cd = [cd_h2(f,x,h1),cd_h2(f,x,h2)]\n",
    "\n",
    "#put the resualt into a dataframe cd_df and calcuate the error Et for each approximation\n",
    "cd_df = pd.DataFrame({\"$$\\delta_{h} [cos](x)$$\":cd})\n",
    "cd_df[\"$$\\epsilon_{t,\\delta}$$\"] = cd_df[\"$$\\delta_{h} [cos](x)$$\"].apply(lambda x:(tv-x)/tv)\n",
    "\n",
    "#rename the index according to h\n",
    "cd_df= cd_df.rename(index={0: r\"$h =\\frac{\\pi}{3}$\",1: r\"$h =\\frac{\\pi}{6}$\"})\n",
    "\n",
    "#calcualte Richardson Extrapolation(re) and re error Et and put them into a dataframe re_df \n",
    "re_df = pd.DataFrame({\"$$R(\\delta_{h_1},\\delta_{h_2})$$\":[(4*cd[1]-cd[0])/3]})  \n",
    "re_df[\"$$\\epsilon_{t,R}$$\"] = re_df[\"$$R(\\delta_{h_1},\\delta_{h_2})$$\"].apply(lambda x:(tv-x)/tv)\n",
    "\n",
    "#hide the index by renameing since it is not needed.\n",
    "re_df= re_df.rename(index={0:\"\"})\n",
    "\n",
    "#display side by side\n",
    "side_by_side(cd_df,re_df,titles=[\"Central Difference\",\"Richardson Extrapolation\"],header_size=4)"
   ]
  },
  {
   "cell_type": "markdown",
   "id": "07cac162",
   "metadata": {},
   "source": [
    "![](23.8.jpg)"
   ]
  },
  {
   "cell_type": "code",
   "execution_count": 30,
   "id": "266a9950",
   "metadata": {
    "scrolled": false
   },
   "outputs": [
    {
     "data": {
      "text/html": [
       "<style  type=\"text/css\" >\n",
       "</style><table id=\"T_40ad9_\" ><thead>    <tr>        <th class=\"col_heading level0 col0\" >y</th>        <th class=\"col_heading level0 col1\" >x</th>        <th class=\"col_heading level0 col2\" >h</th>        <th class=\"col_heading level0 col3\" >True Value</th>        <th class=\"col_heading level0 col4\" >$$\\delta_h [y](x)$$</th>        <th class=\"col_heading level0 col5\" >$$\\epsilon_{t,\\delta_h}$$</th>    </tr></thead><tbody>\n",
       "                <tr>\n",
       "                                <td id=\"T_40ad9_row0_col0\" class=\"data row0 col0\" >$$x^3+4x-15$$</td>\n",
       "                        <td id=\"T_40ad9_row0_col1\" class=\"data row0 col1\" >0.000000</td>\n",
       "                        <td id=\"T_40ad9_row0_col2\" class=\"data row0 col2\" >0.250000</td>\n",
       "                        <td id=\"T_40ad9_row0_col3\" class=\"data row0 col3\" >4.000000</td>\n",
       "                        <td id=\"T_40ad9_row0_col4\" class=\"data row0 col4\" >4.000000</td>\n",
       "                        <td id=\"T_40ad9_row0_col5\" class=\"data row0 col5\" >0.000000</td>\n",
       "            </tr>\n",
       "            <tr>\n",
       "                                <td id=\"T_40ad9_row1_col0\" class=\"data row1 col0\" >$x^2cosx$</td>\n",
       "                        <td id=\"T_40ad9_row1_col1\" class=\"data row1 col1\" >0.400000</td>\n",
       "                        <td id=\"T_40ad9_row1_col2\" class=\"data row1 col2\" >0.100000</td>\n",
       "                        <td id=\"T_40ad9_row1_col3\" class=\"data row1 col3\" >0.674500</td>\n",
       "                        <td id=\"T_40ad9_row1_col4\" class=\"data row1 col4\" >0.674504</td>\n",
       "                        <td id=\"T_40ad9_row1_col5\" class=\"data row1 col5\" >-0.000006</td>\n",
       "            </tr>\n",
       "            <tr>\n",
       "                                <td id=\"T_40ad9_row2_col0\" class=\"data row2 col0\" >$tan(\\frac {x}{3})$</td>\n",
       "                        <td id=\"T_40ad9_row2_col1\" class=\"data row2 col1\" >3.000000</td>\n",
       "                        <td id=\"T_40ad9_row2_col2\" class=\"data row2 col2\" >0.500000</td>\n",
       "                        <td id=\"T_40ad9_row2_col3\" class=\"data row2 col3\" >1.141800</td>\n",
       "                        <td id=\"T_40ad9_row2_col4\" class=\"data row2 col4\" >1.092486</td>\n",
       "                        <td id=\"T_40ad9_row2_col5\" class=\"data row2 col5\" >0.043190</td>\n",
       "            </tr>\n",
       "            <tr>\n",
       "                                <td id=\"T_40ad9_row3_col0\" class=\"data row3 col0\" >$\\frac{sin(0.5\\sqrt{x})}{x}$</td>\n",
       "                        <td id=\"T_40ad9_row3_col1\" class=\"data row3 col1\" >1.000000</td>\n",
       "                        <td id=\"T_40ad9_row3_col2\" class=\"data row3 col2\" >0.200000</td>\n",
       "                        <td id=\"T_40ad9_row3_col3\" class=\"data row3 col3\" >-0.260000</td>\n",
       "                        <td id=\"T_40ad9_row3_col4\" class=\"data row3 col4\" >-0.259081</td>\n",
       "                        <td id=\"T_40ad9_row3_col5\" class=\"data row3 col5\" >0.003535</td>\n",
       "            </tr>\n",
       "            <tr>\n",
       "                                <td id=\"T_40ad9_row4_col0\" class=\"data row4 col0\" >$e^x + x$</td>\n",
       "                        <td id=\"T_40ad9_row4_col1\" class=\"data row4 col1\" >2.000000</td>\n",
       "                        <td id=\"T_40ad9_row4_col2\" class=\"data row4 col2\" >0.200000</td>\n",
       "                        <td id=\"T_40ad9_row4_col3\" class=\"data row4 col3\" >8.389100</td>\n",
       "                        <td id=\"T_40ad9_row4_col4\" class=\"data row4 col4\" >8.388660</td>\n",
       "                        <td id=\"T_40ad9_row4_col5\" class=\"data row4 col5\" >0.000052</td>\n",
       "            </tr>\n",
       "    </tbody></table>"
      ],
      "text/plain": [
       "<pandas.io.formats.style.Styler at 0x21448793670>"
      ]
     },
     "metadata": {},
     "output_type": "display_data"
    }
   ],
   "source": [
    "\"\"\"\n",
    "F:  functions expressions as lambda for calculation\n",
    "Y:  functions expressions as latex for display\n",
    "X:  specified x values for function\n",
    "H:  specified h values for function\n",
    "TV: true value for each function at specified x\n",
    "\"\"\"\n",
    "#define F,Y,X,H,TV lists\n",
    "F = [lambda x: x**3 +4*x-15,\n",
    "     lambda x: x**2 * np.cos(x),\n",
    "     lambda x: np.tan(x/3),\n",
    "     lambda x:np.sin(0.5*np.sqrt(x))/x,\n",
    "     lambda x:np.exp(x)+x]\n",
    "\n",
    "Y = [r\"$$x^3+4x-15$$\",\n",
    "     r\"$x^2cosx$\",\n",
    "     r\"$tan(\\frac {x}{3})$\",\n",
    "     r\"$\\frac{sin(0.5\\sqrt{x})}{x}$\",\n",
    "     r\"$e^x + x$\"]\n",
    "\n",
    "X  = [0,0.4,3,1,2]\n",
    "H  = [0.25,0.1,0.5,0.2,0.2]\n",
    "TV = [4,0.6745,1.1418,-0.2600,8.3891]\n",
    "\n",
    "#put them in a dataframe df\n",
    "df = pd.DataFrame({\"y\":Y,\"f\":F,\"x\":X,\"h\":H,\"True Value\":TV})\n",
    "\n",
    "#calculate Central Difference of O(h^4) for each f according to the specified x and h\n",
    "df[\"$$\\delta_h [y](x)$$\"] = df.apply(lambda d: cd_h4(d[\"f\"],d[\"x\"],d[\"h\"]),axis=1)\n",
    "#calculate Central Difference error Et for each approximations for comparison\n",
    "df[\"$$\\epsilon_{t,\\delta_h}$$\"]= df.apply(lambda d:(d[\"True Value\"]-d[\"$$\\delta_h [y](x)$$\"])/d[\"True Value\"],axis=1)\n",
    "\n",
    "#drop the lambda functions expressions column before display \n",
    "df.drop(['f'], axis=1, inplace=True)\n",
    "#hide the df table index column for better looking table \n",
    "df = df.style.hide_index()\n",
    "#display df \n",
    "display(df)"
   ]
  }
 ],
 "metadata": {
  "kernelspec": {
   "display_name": "Python 3",
   "language": "python",
   "name": "python3"
  },
  "language_info": {
   "codemirror_mode": {
    "name": "ipython",
    "version": 3
   },
   "file_extension": ".py",
   "mimetype": "text/x-python",
   "name": "python",
   "nbconvert_exporter": "python",
   "pygments_lexer": "ipython3",
   "version": "3.8.8"
  }
 },
 "nbformat": 4,
 "nbformat_minor": 5
}
