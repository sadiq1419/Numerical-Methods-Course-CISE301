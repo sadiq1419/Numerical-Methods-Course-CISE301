{
 "cells": [
  {
   "cell_type": "code",
   "execution_count": 3,
   "id": "15d873c4",
   "metadata": {},
   "outputs": [],
   "source": [
    "%matplotlib inline\n",
    "# %matplotlib notebook\n",
    "import matplotlib.pyplot as plt\n",
    "import numpy as np\n",
    "import math\n",
    "from sympy import symbols, diff, lambdify,sympify\n",
    "from tqdm import tqdm\n",
    "import pandas as pd\n",
    "\n",
    "plt.style.use('ggplot')"
   ]
  },
  {
   "cell_type": "markdown",
   "id": "de118c45",
   "metadata": {},
   "source": [
    "![\"a\"](17.4.jpg)"
   ]
  },
  {
   "cell_type": "code",
   "execution_count": 64,
   "id": "a2249807",
   "metadata": {},
   "outputs": [],
   "source": [
    "data = {\"X\":[6,7,11,15,17,21,23,29,29,37,39],\"Y\":[29,21,29,14,21,15,7,7,13,0,3]}\n",
    "df = pd.DataFrame(data)\n",
    "X = df[\"X\"].to_numpy()\n",
    "Y = df[\"Y\"].to_numpy()\n",
    "XY = np.multiply(X,Y)\n",
    "X2 = np.multiply(X,X)\n",
    "Y2 = np.multiply(Y,Y)\n",
    "\n",
    "df[\"XY\"]= XY\n",
    "df[\"X2\"]=X2\n",
    "df[\"Y2\"]=Y2\n",
    "\n",
    "sums = pd.DataFrame({\"X\":[df[\"X\"].sum()],\"Y\":[df[\"Y\"].sum()],\"XY\":[df[\"XY\"].sum()],\"X2\":[df[\"X2\"].sum()],\"Y2\":[df[\"Y2\"].sum()]})"
   ]
  },
  {
   "cell_type": "code",
   "execution_count": 95,
   "id": "de483412",
   "metadata": {},
   "outputs": [],
   "source": [
    "n=df.shape[0]\n",
    "a1 = (n*sums[\"XY\"]-sums[\"Y\"]*sums[\"X\"])/(n*sums[\"X2\"]-sums[\"X\"]**2)\n",
    "a0 = (sums[\"Y\"]-a1*sums[\"X\"])/(n)\n",
    "df['f'] = df['X'].apply(lambda x: a1*x+a0)\n"
   ]
  },
  {
   "cell_type": "code",
   "execution_count": 94,
   "id": "c8914344",
   "metadata": {},
   "outputs": [
    {
     "data": {
      "text/plain": [
       "[<matplotlib.lines.Line2D at 0x1ad836d3d00>]"
      ]
     },
     "execution_count": 94,
     "metadata": {},
     "output_type": "execute_result"
    },
    {
     "data": {
      "image/png": "[encoded data removed]",
      "text/plain": [
       "<Figure size 432x288 with 1 Axes>"
      ]
     },
     "metadata": {},
     "output_type": "display_data"
    }
   ],
   "source": [
    "plt.scatter(df[\"X\"],df[\"Y\"])\n",
    "plt.plot(df[\"X\"],df[\"f\"],color=\"blue\")"
   ]
  },
  {
   "cell_type": "code",
   "execution_count": 16,
   "id": "e69cdc83",
   "metadata": {},
   "outputs": [
    {
     "data": {
      "text/plain": [
       "234"
      ]
     },
     "execution_count": 16,
     "metadata": {},
     "output_type": "execute_result"
    }
   ],
   "source": []
  },
  {
   "cell_type": "code",
   "execution_count": null,
   "id": "35f5fb30",
   "metadata": {},
   "outputs": [],
   "source": []
  }
 ],
 "metadata": {
  "kernelspec": {
   "display_name": "Python 3",
   "language": "python",
   "name": "python3"
  },
  "language_info": {
   "codemirror_mode": {
    "name": "ipython",
    "version": 3
   },
   "file_extension": ".py",
   "mimetype": "text/x-python",
   "name": "python",
   "nbconvert_exporter": "python",
   "pygments_lexer": "ipython3",
   "version": "3.8.8"
  }
 },
 "nbformat": 4,
 "nbformat_minor": 5
}
