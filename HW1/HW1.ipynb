{
 "cells": [
  {
   "cell_type": "markdown",
   "id": "f3535ad5",
   "metadata": {},
   "source": [
    "![HW](Capture.png)"
   ]
  },
  {
   "cell_type": "code",
   "execution_count": 136,
   "id": "a84fe56b",
   "metadata": {},
   "outputs": [],
   "source": [
    "import numpy as np\n",
    "import pandas as pd\n",
    "import math\n",
    "def tabulate(list,name=\"x\"):\n",
    "    return pd.DataFrame(list,index= [\"Iteration: \"+str(x) for x in range(len(list))],columns=[name])\n",
    "\n",
    "def NRM(f,f_prime,x,error):\n",
    "    guess_list = []\n",
    "    while True:       \n",
    "        x1 = x - f(x) / f_prime(x) \n",
    "        tmp = abs(x1 - x)\n",
    "        if  tmp < error or not np.isfinite(tmp) or np.isnan(tmp):\n",
    "            guess_list.append(x1)\n",
    "            break\n",
    "        x = x1\n",
    "        guess_list.append(x)\n",
    "        \n",
    "    return np.array(guess_list)\n",
    "\n",
    "def bisection(f, a, b, error): \n",
    "    guess_list = []\n",
    "    while True :\n",
    "        \n",
    "        c = (a+b)/2.0\n",
    "        guess_list.append(c)\n",
    "        tmp = abs(a-b)\n",
    "        if  tmp < error or not np.isfinite(tmp) or np.isnan(tmp):\n",
    "            guess_list.append(c)\n",
    "            break\n",
    "            \n",
    "        if f(a)*f(c) > 0: \n",
    "            a=c \n",
    "        else:\n",
    "            b=c\n",
    "\n",
    "    return np.array(guess_list)        "
   ]
  },
  {
   "cell_type": "markdown",
   "id": "293c2581",
   "metadata": {},
   "source": [
    "![6.11](6.11.png)"
   ]
  },
  {
   "cell_type": "code",
   "execution_count": 137,
   "id": "9e9855d6",
   "metadata": {},
   "outputs": [],
   "source": [
    "def f(x):\n",
    "    return np.exp(-0.5*x)*(4-x)-2\n",
    "def df(x):\n",
    "    return -(4-x)*np.exp(-0.5*x)-np.exp(-0.5*x)"
   ]
  },
  {
   "cell_type": "code",
   "execution_count": 138,
   "id": "14816a18",
   "metadata": {},
   "outputs": [
    {
     "data": {
      "text/html": [
       "<div>\n",
       "<style scoped>\n",
       "    .dataframe tbody tr th:only-of-type {\n",
       "        vertical-align: middle;\n",
       "    }\n",
       "\n",
       "    .dataframe tbody tr th {\n",
       "        vertical-align: top;\n",
       "    }\n",
       "\n",
       "    .dataframe thead th {\n",
       "        text-align: right;\n",
       "    }\n",
       "</style>\n",
       "<table border=\"1\" class=\"dataframe\">\n",
       "  <thead>\n",
       "    <tr style=\"text-align: right;\">\n",
       "      <th></th>\n",
       "      <th>x</th>\n",
       "    </tr>\n",
       "  </thead>\n",
       "  <tbody>\n",
       "    <tr>\n",
       "      <th>Iteration: 0</th>\n",
       "      <td>0.854479</td>\n",
       "    </tr>\n",
       "    <tr>\n",
       "      <th>Iteration: 1</th>\n",
       "      <td>0.873652</td>\n",
       "    </tr>\n",
       "    <tr>\n",
       "      <th>Iteration: 2</th>\n",
       "      <td>0.881110</td>\n",
       "    </tr>\n",
       "    <tr>\n",
       "      <th>Iteration: 3</th>\n",
       "      <td>0.883963</td>\n",
       "    </tr>\n",
       "    <tr>\n",
       "      <th>Iteration: 4</th>\n",
       "      <td>0.885047</td>\n",
       "    </tr>\n",
       "    <tr>\n",
       "      <th>Iteration: 5</th>\n",
       "      <td>0.885458</td>\n",
       "    </tr>\n",
       "    <tr>\n",
       "      <th>Iteration: 6</th>\n",
       "      <td>0.885614</td>\n",
       "    </tr>\n",
       "    <tr>\n",
       "      <th>Iteration: 7</th>\n",
       "      <td>0.885673</td>\n",
       "    </tr>\n",
       "    <tr>\n",
       "      <th>Iteration: 8</th>\n",
       "      <td>0.885695</td>\n",
       "    </tr>\n",
       "    <tr>\n",
       "      <th>Iteration: 9</th>\n",
       "      <td>0.885704</td>\n",
       "    </tr>\n",
       "  </tbody>\n",
       "</table>\n",
       "</div>"
      ],
      "text/plain": [
       "                     x\n",
       "Iteration: 0  0.854479\n",
       "Iteration: 1  0.873652\n",
       "Iteration: 2  0.881110\n",
       "Iteration: 3  0.883963\n",
       "Iteration: 4  0.885047\n",
       "Iteration: 5  0.885458\n",
       "Iteration: 6  0.885614\n",
       "Iteration: 7  0.885673\n",
       "Iteration: 8  0.885695\n",
       "Iteration: 9  0.885704"
      ]
     },
     "execution_count": 138,
     "metadata": {},
     "output_type": "execute_result"
    }
   ],
   "source": [
    "A = NRM(f,df,2,10**-5)\n",
    "tabulate(A)"
   ]
  },
  {
   "cell_type": "code",
   "execution_count": 139,
   "id": "10abb834",
   "metadata": {},
   "outputs": [
    {
     "data": {
      "text/plain": [
       "7.885868794854645e-06"
      ]
     },
     "execution_count": 139,
     "metadata": {},
     "output_type": "execute_result"
    }
   ],
   "source": [
    "f(0.885704)\n",
    "#Very close to zero"
   ]
  },
  {
   "cell_type": "code",
   "execution_count": 140,
   "id": "810ca524",
   "metadata": {},
   "outputs": [
    {
     "name": "stderr",
     "output_type": "stream",
     "text": [
      "<ipython-input-136-55983511c083>:10: RuntimeWarning: divide by zero encountered in double_scalars\n",
      "  x1 = x - f(x) / f_prime(x)\n"
     ]
    },
    {
     "data": {
      "text/html": [
       "<div>\n",
       "<style scoped>\n",
       "    .dataframe tbody tr th:only-of-type {\n",
       "        vertical-align: middle;\n",
       "    }\n",
       "\n",
       "    .dataframe tbody tr th {\n",
       "        vertical-align: top;\n",
       "    }\n",
       "\n",
       "    .dataframe thead th {\n",
       "        text-align: right;\n",
       "    }\n",
       "</style>\n",
       "<table border=\"1\" class=\"dataframe\">\n",
       "  <thead>\n",
       "    <tr style=\"text-align: right;\">\n",
       "      <th></th>\n",
       "      <th>x</th>\n",
       "    </tr>\n",
       "  </thead>\n",
       "  <tbody>\n",
       "    <tr>\n",
       "      <th>Iteration: 0</th>\n",
       "      <td>4.817107e+01</td>\n",
       "    </tr>\n",
       "    <tr>\n",
       "      <th>Iteration: 1</th>\n",
       "      <td>1.336758e+09</td>\n",
       "    </tr>\n",
       "    <tr>\n",
       "      <th>Iteration: 2</th>\n",
       "      <td>inf</td>\n",
       "    </tr>\n",
       "  </tbody>\n",
       "</table>\n",
       "</div>"
      ],
      "text/plain": [
       "                         x\n",
       "Iteration: 0  4.817107e+01\n",
       "Iteration: 1  1.336758e+09\n",
       "Iteration: 2           inf"
      ]
     },
     "execution_count": 140,
     "metadata": {},
     "output_type": "execute_result"
    }
   ],
   "source": [
    "B = NRM(f,df,6,10**-5)\n",
    "tabulate(B)"
   ]
  },
  {
   "cell_type": "code",
   "execution_count": 141,
   "id": "6720e710",
   "metadata": {},
   "outputs": [
    {
     "name": "stderr",
     "output_type": "stream",
     "text": [
      "<ipython-input-136-55983511c083>:10: RuntimeWarning: divide by zero encountered in double_scalars\n",
      "  x1 = x - f(x) / f_prime(x)\n"
     ]
    },
    {
     "data": {
      "text/html": [
       "<div>\n",
       "<style scoped>\n",
       "    .dataframe tbody tr th:only-of-type {\n",
       "        vertical-align: middle;\n",
       "    }\n",
       "\n",
       "    .dataframe tbody tr th {\n",
       "        vertical-align: top;\n",
       "    }\n",
       "\n",
       "    .dataframe thead th {\n",
       "        text-align: right;\n",
       "    }\n",
       "</style>\n",
       "<table border=\"1\" class=\"dataframe\">\n",
       "  <thead>\n",
       "    <tr style=\"text-align: right;\">\n",
       "      <th></th>\n",
       "      <th>x</th>\n",
       "    </tr>\n",
       "  </thead>\n",
       "  <tbody>\n",
       "    <tr>\n",
       "      <th>Iteration: 0</th>\n",
       "      <td>4.573210e+01</td>\n",
       "    </tr>\n",
       "    <tr>\n",
       "      <th>Iteration: 1</th>\n",
       "      <td>4.184972e+08</td>\n",
       "    </tr>\n",
       "    <tr>\n",
       "      <th>Iteration: 2</th>\n",
       "      <td>inf</td>\n",
       "    </tr>\n",
       "  </tbody>\n",
       "</table>\n",
       "</div>"
      ],
      "text/plain": [
       "                         x\n",
       "Iteration: 0  4.573210e+01\n",
       "Iteration: 1  4.184972e+08\n",
       "Iteration: 2           inf"
      ]
     },
     "execution_count": 141,
     "metadata": {},
     "output_type": "execute_result"
    }
   ],
   "source": [
    "C = NRM(f,df,8,10**-5)\n",
    "tabulate(C)"
   ]
  },
  {
   "cell_type": "markdown",
   "id": "f387c324",
   "metadata": {},
   "source": [
    "### Explanation:\n",
    "![graph](6.11_graph.PNG)\n",
    "\n",
    "##### Legend:\n",
    "\n",
    "* Red line:- F(x)\n",
    "\n",
    "* Blue line:- tangent of F(x) at 2\n",
    "\n",
    "* Green line:- tangent of F(x) at 6\n",
    "\n",
    "* Purple line:- tangent of F(x) at 8\n",
    "\n",
    "\n",
    "\n",
    "As we can see at 2 the tangent line is normal looking therefore Newton Raphson Method has worked for finding the root.\n",
    "\n",
    "As for tangents at 6 and 8 they become really step and nearly horizontal thus as the $\\frac{f(x)}{f'(x)}$ term in Newton Raphson Method explode and very quickly we get infinities within 2 iterations."
   ]
  },
  {
   "cell_type": "markdown",
   "id": "1641ca30",
   "metadata": {},
   "source": [
    "![Sample landmark classification output](6.12.png)"
   ]
  },
  {
   "cell_type": "markdown",
   "id": "789176a4",
   "metadata": {},
   "source": [
    "#### Since the function is polynomial it is easily differentiable therefore Newton Raphson Method is chosen since the second derivative required for finding maximum values of F is easy to compute.."
   ]
  },
  {
   "cell_type": "code",
   "execution_count": 142,
   "id": "8aa90387",
   "metadata": {},
   "outputs": [],
   "source": [
    "def f(x):\n",
    "    return -2*x**6 - 1.5*x**4 +10*x + 2\n",
    "\n",
    "def df(x):\n",
    "    return -12*x**5-6*x**3+10\n",
    "\n",
    "def df2(x):\n",
    "    return -12*5*x**4-6**3*x**2"
   ]
  },
  {
   "cell_type": "code",
   "execution_count": 143,
   "id": "3a07dbe6",
   "metadata": {},
   "outputs": [
    {
     "data": {
      "text/html": [
       "<div>\n",
       "<style scoped>\n",
       "    .dataframe tbody tr th:only-of-type {\n",
       "        vertical-align: middle;\n",
       "    }\n",
       "\n",
       "    .dataframe tbody tr th {\n",
       "        vertical-align: top;\n",
       "    }\n",
       "\n",
       "    .dataframe thead th {\n",
       "        text-align: right;\n",
       "    }\n",
       "</style>\n",
       "<table border=\"1\" class=\"dataframe\">\n",
       "  <thead>\n",
       "    <tr style=\"text-align: right;\">\n",
       "      <th></th>\n",
       "      <th>x</th>\n",
       "    </tr>\n",
       "  </thead>\n",
       "  <tbody>\n",
       "    <tr>\n",
       "      <th>Iteration: 0</th>\n",
       "      <td>0.971014</td>\n",
       "    </tr>\n",
       "    <tr>\n",
       "      <th>Iteration: 1</th>\n",
       "      <td>0.948244</td>\n",
       "    </tr>\n",
       "    <tr>\n",
       "      <th>Iteration: 2</th>\n",
       "      <td>0.930464</td>\n",
       "    </tr>\n",
       "    <tr>\n",
       "      <th>Iteration: 3</th>\n",
       "      <td>0.916659</td>\n",
       "    </tr>\n",
       "    <tr>\n",
       "      <th>Iteration: 4</th>\n",
       "      <td>0.905992</td>\n",
       "    </tr>\n",
       "    <tr>\n",
       "      <th>Iteration: 5</th>\n",
       "      <td>0.897785</td>\n",
       "    </tr>\n",
       "    <tr>\n",
       "      <th>Iteration: 6</th>\n",
       "      <td>0.891492</td>\n",
       "    </tr>\n",
       "    <tr>\n",
       "      <th>Iteration: 7</th>\n",
       "      <td>0.886681</td>\n",
       "    </tr>\n",
       "    <tr>\n",
       "      <th>Iteration: 8</th>\n",
       "      <td>0.883010</td>\n",
       "    </tr>\n",
       "    <tr>\n",
       "      <th>Iteration: 9</th>\n",
       "      <td>0.880214</td>\n",
       "    </tr>\n",
       "    <tr>\n",
       "      <th>Iteration: 10</th>\n",
       "      <td>0.878089</td>\n",
       "    </tr>\n",
       "    <tr>\n",
       "      <th>Iteration: 11</th>\n",
       "      <td>0.876474</td>\n",
       "    </tr>\n",
       "    <tr>\n",
       "      <th>Iteration: 12</th>\n",
       "      <td>0.875248</td>\n",
       "    </tr>\n",
       "    <tr>\n",
       "      <th>Iteration: 13</th>\n",
       "      <td>0.874318</td>\n",
       "    </tr>\n",
       "    <tr>\n",
       "      <th>Iteration: 14</th>\n",
       "      <td>0.873613</td>\n",
       "    </tr>\n",
       "    <tr>\n",
       "      <th>Iteration: 15</th>\n",
       "      <td>0.873079</td>\n",
       "    </tr>\n",
       "    <tr>\n",
       "      <th>Iteration: 16</th>\n",
       "      <td>0.872674</td>\n",
       "    </tr>\n",
       "    <tr>\n",
       "      <th>Iteration: 17</th>\n",
       "      <td>0.872368</td>\n",
       "    </tr>\n",
       "    <tr>\n",
       "      <th>Iteration: 18</th>\n",
       "      <td>0.872135</td>\n",
       "    </tr>\n",
       "    <tr>\n",
       "      <th>Iteration: 19</th>\n",
       "      <td>0.871960</td>\n",
       "    </tr>\n",
       "    <tr>\n",
       "      <th>Iteration: 20</th>\n",
       "      <td>0.871826</td>\n",
       "    </tr>\n",
       "    <tr>\n",
       "      <th>Iteration: 21</th>\n",
       "      <td>0.871726</td>\n",
       "    </tr>\n",
       "    <tr>\n",
       "      <th>Iteration: 22</th>\n",
       "      <td>0.871649</td>\n",
       "    </tr>\n",
       "    <tr>\n",
       "      <th>Iteration: 23</th>\n",
       "      <td>0.871591</td>\n",
       "    </tr>\n",
       "    <tr>\n",
       "      <th>Iteration: 24</th>\n",
       "      <td>0.871548</td>\n",
       "    </tr>\n",
       "    <tr>\n",
       "      <th>Iteration: 25</th>\n",
       "      <td>0.871515</td>\n",
       "    </tr>\n",
       "    <tr>\n",
       "      <th>Iteration: 26</th>\n",
       "      <td>0.871489</td>\n",
       "    </tr>\n",
       "    <tr>\n",
       "      <th>Iteration: 27</th>\n",
       "      <td>0.871470</td>\n",
       "    </tr>\n",
       "    <tr>\n",
       "      <th>Iteration: 28</th>\n",
       "      <td>0.871456</td>\n",
       "    </tr>\n",
       "    <tr>\n",
       "      <th>Iteration: 29</th>\n",
       "      <td>0.871445</td>\n",
       "    </tr>\n",
       "    <tr>\n",
       "      <th>Iteration: 30</th>\n",
       "      <td>0.871437</td>\n",
       "    </tr>\n",
       "  </tbody>\n",
       "</table>\n",
       "</div>"
      ],
      "text/plain": [
       "                      x\n",
       "Iteration: 0   0.971014\n",
       "Iteration: 1   0.948244\n",
       "Iteration: 2   0.930464\n",
       "Iteration: 3   0.916659\n",
       "Iteration: 4   0.905992\n",
       "Iteration: 5   0.897785\n",
       "Iteration: 6   0.891492\n",
       "Iteration: 7   0.886681\n",
       "Iteration: 8   0.883010\n",
       "Iteration: 9   0.880214\n",
       "Iteration: 10  0.878089\n",
       "Iteration: 11  0.876474\n",
       "Iteration: 12  0.875248\n",
       "Iteration: 13  0.874318\n",
       "Iteration: 14  0.873613\n",
       "Iteration: 15  0.873079\n",
       "Iteration: 16  0.872674\n",
       "Iteration: 17  0.872368\n",
       "Iteration: 18  0.872135\n",
       "Iteration: 19  0.871960\n",
       "Iteration: 20  0.871826\n",
       "Iteration: 21  0.871726\n",
       "Iteration: 22  0.871649\n",
       "Iteration: 23  0.871591\n",
       "Iteration: 24  0.871548\n",
       "Iteration: 25  0.871515\n",
       "Iteration: 26  0.871489\n",
       "Iteration: 27  0.871470\n",
       "Iteration: 28  0.871456\n",
       "Iteration: 29  0.871445\n",
       "Iteration: 30  0.871437"
      ]
     },
     "execution_count": 143,
     "metadata": {},
     "output_type": "execute_result"
    }
   ],
   "source": [
    "tabulate(NRM(df,df2,1,10**-5))"
   ]
  },
  {
   "cell_type": "code",
   "execution_count": 144,
   "id": "f17491b1",
   "metadata": {},
   "outputs": [
    {
     "name": "stdout",
     "output_type": "stream",
     "text": [
      "8.861312\n",
      "8.973449148756444\n",
      "8.952968\n"
     ]
    }
   ],
   "source": [
    "print(f(0.8))\n",
    "print(f(0.871437))\n",
    "print(f(0.9))\n",
    "\n",
    "#we can see here that 0.871437 is the local maxium on interval (0,1)"
   ]
  },
  {
   "cell_type": "markdown",
   "id": "7129fef3",
   "metadata": {},
   "source": [
    "![Sample landmark classification output](6.13p1.png)\n",
    "![Sample landmark classification output](6.13p2.png)"
   ]
  },
  {
   "cell_type": "markdown",
   "id": "20e7b19f",
   "metadata": {},
   "source": [
    "#### as stated the function is easily differentiable Newton Raphson Method is chosen since it is fast to converge and guaranteed to do so as well."
   ]
  },
  {
   "cell_type": "code",
   "execution_count": 145,
   "id": "f08c29d8",
   "metadata": {},
   "outputs": [],
   "source": [
    "def f(x):\n",
    "    return (5-5*x)-np.exp(0.5*x)\n",
    "def df(x):\n",
    "    return -0.5*np.exp(0.5*x)-5"
   ]
  },
  {
   "cell_type": "code",
   "execution_count": 146,
   "id": "5e581066",
   "metadata": {},
   "outputs": [
    {
     "data": {
      "text/html": [
       "<div>\n",
       "<style scoped>\n",
       "    .dataframe tbody tr th:only-of-type {\n",
       "        vertical-align: middle;\n",
       "    }\n",
       "\n",
       "    .dataframe tbody tr th {\n",
       "        vertical-align: top;\n",
       "    }\n",
       "\n",
       "    .dataframe thead th {\n",
       "        text-align: right;\n",
       "    }\n",
       "</style>\n",
       "<table border=\"1\" class=\"dataframe\">\n",
       "  <thead>\n",
       "    <tr style=\"text-align: right;\">\n",
       "      <th></th>\n",
       "      <th>x</th>\n",
       "    </tr>\n",
       "  </thead>\n",
       "  <tbody>\n",
       "    <tr>\n",
       "      <th>Iteration: 0</th>\n",
       "      <td>0.714175</td>\n",
       "    </tr>\n",
       "    <tr>\n",
       "      <th>Iteration: 1</th>\n",
       "      <td>0.714169</td>\n",
       "    </tr>\n",
       "  </tbody>\n",
       "</table>\n",
       "</div>"
      ],
      "text/plain": [
       "                     x\n",
       "Iteration: 0  0.714175\n",
       "Iteration: 1  0.714169"
      ]
     },
     "execution_count": 146,
     "metadata": {},
     "output_type": "execute_result"
    }
   ],
   "source": [
    "tabulate(NRM(f,df,0.7,10**-5))"
   ]
  },
  {
   "cell_type": "code",
   "execution_count": 147,
   "id": "d2a0950f",
   "metadata": {},
   "outputs": [
    {
     "data": {
      "text/plain": [
       "-1.628486860250078e-06"
      ]
     },
     "execution_count": 147,
     "metadata": {},
     "output_type": "execute_result"
    }
   ],
   "source": [
    "f(0.714169)\n",
    "#Very close to zero"
   ]
  },
  {
   "cell_type": "markdown",
   "id": "de81ed88",
   "metadata": {},
   "source": [
    "![Sample landmark classification output](6.15.png)"
   ]
  },
  {
   "cell_type": "markdown",
   "id": "ac52c073",
   "metadata": {},
   "source": [
    "#### Let\n",
    "#### $x = \\sqrt{a}$\n",
    "#### Square both sides and simplfiy\n",
    "#### $x^2 = a$\n",
    "#### $x^2 - a = 0$\n",
    "#### $f(x) = x^2 - a$\n",
    "#### Compute $f'(x)$\n",
    "#### $f'(x) = 2x$\n",
    "\n",
    "#### Now using Newton Raphson Method.\n",
    "#### Let\n",
    "#### $x =x_{0} - \\frac{f(x)}{f'(x)}$\n",
    "#### $x= x - \\frac{ x^2 - a}{2x}$\n",
    "#### Simplfiying\n",
    "#### $=\\frac{(x^2-a)}{2x}$\n",
    "#### $=\\frac{(x^2-a)}{2x}$\n",
    "#### $=\\frac{x-\\frac{a}{x}}{2}$\n",
    "\n",
    "#### Therefore, as we can see \"divide and average\" is same as Newton Raphson Method"
   ]
  },
  {
   "cell_type": "code",
   "execution_count": null,
   "id": "88f4e807",
   "metadata": {},
   "outputs": [],
   "source": []
  }
 ],
 "metadata": {
  "kernelspec": {
   "display_name": "Python 3",
   "language": "python",
   "name": "python3"
  },
  "language_info": {
   "codemirror_mode": {
    "name": "ipython",
    "version": 3
   },
   "file_extension": ".py",
   "mimetype": "text/x-python",
   "name": "python",
   "nbconvert_exporter": "python",
   "pygments_lexer": "ipython3",
   "version": "3.8.8"
  }
 },
 "nbformat": 4,
 "nbformat_minor": 5
}
